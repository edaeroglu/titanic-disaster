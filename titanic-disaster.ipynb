{
 "cells": [
  {
   "cell_type": "code",
   "execution_count": 1,
   "id": "b095aa52",
   "metadata": {
    "_cell_guid": "b1076dfc-b9ad-4769-8c92-a6c4dae69d19",
    "_uuid": "8f2839f25d086af736a60e9eeb907d3b93b6e0e5",
    "execution": {
     "iopub.execute_input": "2025-05-13T16:30:31.155168Z",
     "iopub.status.busy": "2025-05-13T16:30:31.154766Z",
     "iopub.status.idle": "2025-05-13T16:30:33.372705Z",
     "shell.execute_reply": "2025-05-13T16:30:33.371523Z"
    },
    "papermill": {
     "duration": 2.227194,
     "end_time": "2025-05-13T16:30:33.374520",
     "exception": false,
     "start_time": "2025-05-13T16:30:31.147326",
     "status": "completed"
    },
    "tags": []
   },
   "outputs": [
    {
     "name": "stdout",
     "output_type": "stream",
     "text": [
      "/kaggle/input/titanic/train.csv\n",
      "/kaggle/input/titanic/test.csv\n",
      "/kaggle/input/titanic/gender_submission.csv\n"
     ]
    }
   ],
   "source": [
    "# This Python 3 environment comes with many helpful analytics libraries installed\n",
    "# It is defined by the kaggle/python Docker image: https://github.com/kaggle/docker-python\n",
    "# For example, here's several helpful packages to load\n",
    "\n",
    "import numpy as np # linear algebra\n",
    "import pandas as pd # data processing, CSV file I/O (e.g. pd.read_csv)\n",
    "\n",
    "# Input data files are available in the read-only \"../input/\" directory\n",
    "# For example, running this (by clicking run or pressing Shift+Enter) will list all files under the input directory\n",
    "\n",
    "import os\n",
    "for dirname, _, filenames in os.walk('/kaggle/input'):\n",
    "    for filename in filenames:\n",
    "        print(os.path.join(dirname, filename))\n",
    "\n",
    "# You can write up to 20GB to the current directory (/kaggle/working/) that gets preserved as output when you create a version using \"Save & Run All\" \n",
    "# You can also write temporary files to /kaggle/temp/, but they won't be saved outside of the current session"
   ]
  },
  {
   "cell_type": "code",
   "execution_count": 2,
   "id": "d4c9c8d5",
   "metadata": {
    "execution": {
     "iopub.execute_input": "2025-05-13T16:30:33.386918Z",
     "iopub.status.busy": "2025-05-13T16:30:33.386334Z",
     "iopub.status.idle": "2025-05-13T16:30:33.416228Z",
     "shell.execute_reply": "2025-05-13T16:30:33.415120Z"
    },
    "papermill": {
     "duration": 0.038788,
     "end_time": "2025-05-13T16:30:33.418947",
     "exception": false,
     "start_time": "2025-05-13T16:30:33.380159",
     "status": "completed"
    },
    "tags": []
   },
   "outputs": [],
   "source": [
    "df = pd.read_csv(\"/kaggle/input/titanic/train.csv\")"
   ]
  },
  {
   "cell_type": "code",
   "execution_count": 3,
   "id": "b2ef44a6",
   "metadata": {
    "execution": {
     "iopub.execute_input": "2025-05-13T16:30:33.433100Z",
     "iopub.status.busy": "2025-05-13T16:30:33.432501Z",
     "iopub.status.idle": "2025-05-13T16:30:33.469623Z",
     "shell.execute_reply": "2025-05-13T16:30:33.468463Z"
    },
    "papermill": {
     "duration": 0.046342,
     "end_time": "2025-05-13T16:30:33.471554",
     "exception": false,
     "start_time": "2025-05-13T16:30:33.425212",
     "status": "completed"
    },
    "tags": []
   },
   "outputs": [
    {
     "data": {
      "text/html": [
       "<div>\n",
       "<style scoped>\n",
       "    .dataframe tbody tr th:only-of-type {\n",
       "        vertical-align: middle;\n",
       "    }\n",
       "\n",
       "    .dataframe tbody tr th {\n",
       "        vertical-align: top;\n",
       "    }\n",
       "\n",
       "    .dataframe thead th {\n",
       "        text-align: right;\n",
       "    }\n",
       "</style>\n",
       "<table border=\"1\" class=\"dataframe\">\n",
       "  <thead>\n",
       "    <tr style=\"text-align: right;\">\n",
       "      <th></th>\n",
       "      <th>PassengerId</th>\n",
       "      <th>Survived</th>\n",
       "      <th>Pclass</th>\n",
       "      <th>Name</th>\n",
       "      <th>Sex</th>\n",
       "      <th>Age</th>\n",
       "      <th>SibSp</th>\n",
       "      <th>Parch</th>\n",
       "      <th>Ticket</th>\n",
       "      <th>Fare</th>\n",
       "      <th>Cabin</th>\n",
       "      <th>Embarked</th>\n",
       "    </tr>\n",
       "  </thead>\n",
       "  <tbody>\n",
       "    <tr>\n",
       "      <th>0</th>\n",
       "      <td>1</td>\n",
       "      <td>0</td>\n",
       "      <td>3</td>\n",
       "      <td>Braund, Mr. Owen Harris</td>\n",
       "      <td>male</td>\n",
       "      <td>22.0</td>\n",
       "      <td>1</td>\n",
       "      <td>0</td>\n",
       "      <td>A/5 21171</td>\n",
       "      <td>7.2500</td>\n",
       "      <td>NaN</td>\n",
       "      <td>S</td>\n",
       "    </tr>\n",
       "    <tr>\n",
       "      <th>1</th>\n",
       "      <td>2</td>\n",
       "      <td>1</td>\n",
       "      <td>1</td>\n",
       "      <td>Cumings, Mrs. John Bradley (Florence Briggs Th...</td>\n",
       "      <td>female</td>\n",
       "      <td>38.0</td>\n",
       "      <td>1</td>\n",
       "      <td>0</td>\n",
       "      <td>PC 17599</td>\n",
       "      <td>71.2833</td>\n",
       "      <td>C85</td>\n",
       "      <td>C</td>\n",
       "    </tr>\n",
       "    <tr>\n",
       "      <th>2</th>\n",
       "      <td>3</td>\n",
       "      <td>1</td>\n",
       "      <td>3</td>\n",
       "      <td>Heikkinen, Miss. Laina</td>\n",
       "      <td>female</td>\n",
       "      <td>26.0</td>\n",
       "      <td>0</td>\n",
       "      <td>0</td>\n",
       "      <td>STON/O2. 3101282</td>\n",
       "      <td>7.9250</td>\n",
       "      <td>NaN</td>\n",
       "      <td>S</td>\n",
       "    </tr>\n",
       "    <tr>\n",
       "      <th>3</th>\n",
       "      <td>4</td>\n",
       "      <td>1</td>\n",
       "      <td>1</td>\n",
       "      <td>Futrelle, Mrs. Jacques Heath (Lily May Peel)</td>\n",
       "      <td>female</td>\n",
       "      <td>35.0</td>\n",
       "      <td>1</td>\n",
       "      <td>0</td>\n",
       "      <td>113803</td>\n",
       "      <td>53.1000</td>\n",
       "      <td>C123</td>\n",
       "      <td>S</td>\n",
       "    </tr>\n",
       "    <tr>\n",
       "      <th>4</th>\n",
       "      <td>5</td>\n",
       "      <td>0</td>\n",
       "      <td>3</td>\n",
       "      <td>Allen, Mr. William Henry</td>\n",
       "      <td>male</td>\n",
       "      <td>35.0</td>\n",
       "      <td>0</td>\n",
       "      <td>0</td>\n",
       "      <td>373450</td>\n",
       "      <td>8.0500</td>\n",
       "      <td>NaN</td>\n",
       "      <td>S</td>\n",
       "    </tr>\n",
       "  </tbody>\n",
       "</table>\n",
       "</div>"
      ],
      "text/plain": [
       "   PassengerId  Survived  Pclass  \\\n",
       "0            1         0       3   \n",
       "1            2         1       1   \n",
       "2            3         1       3   \n",
       "3            4         1       1   \n",
       "4            5         0       3   \n",
       "\n",
       "                                                Name     Sex   Age  SibSp  \\\n",
       "0                            Braund, Mr. Owen Harris    male  22.0      1   \n",
       "1  Cumings, Mrs. John Bradley (Florence Briggs Th...  female  38.0      1   \n",
       "2                             Heikkinen, Miss. Laina  female  26.0      0   \n",
       "3       Futrelle, Mrs. Jacques Heath (Lily May Peel)  female  35.0      1   \n",
       "4                           Allen, Mr. William Henry    male  35.0      0   \n",
       "\n",
       "   Parch            Ticket     Fare Cabin Embarked  \n",
       "0      0         A/5 21171   7.2500   NaN        S  \n",
       "1      0          PC 17599  71.2833   C85        C  \n",
       "2      0  STON/O2. 3101282   7.9250   NaN        S  \n",
       "3      0            113803  53.1000  C123        S  \n",
       "4      0            373450   8.0500   NaN        S  "
      ]
     },
     "execution_count": 3,
     "metadata": {},
     "output_type": "execute_result"
    }
   ],
   "source": [
    "df.head()"
   ]
  },
  {
   "cell_type": "code",
   "execution_count": 4,
   "id": "2e5fb4ab",
   "metadata": {
    "execution": {
     "iopub.execute_input": "2025-05-13T16:30:33.484019Z",
     "iopub.status.busy": "2025-05-13T16:30:33.483679Z",
     "iopub.status.idle": "2025-05-13T16:30:33.512386Z",
     "shell.execute_reply": "2025-05-13T16:30:33.511158Z"
    },
    "papermill": {
     "duration": 0.037527,
     "end_time": "2025-05-13T16:30:33.514798",
     "exception": false,
     "start_time": "2025-05-13T16:30:33.477271",
     "status": "completed"
    },
    "tags": []
   },
   "outputs": [
    {
     "name": "stdout",
     "output_type": "stream",
     "text": [
      "<class 'pandas.core.frame.DataFrame'>\n",
      "RangeIndex: 891 entries, 0 to 890\n",
      "Data columns (total 12 columns):\n",
      " #   Column       Non-Null Count  Dtype  \n",
      "---  ------       --------------  -----  \n",
      " 0   PassengerId  891 non-null    int64  \n",
      " 1   Survived     891 non-null    int64  \n",
      " 2   Pclass       891 non-null    int64  \n",
      " 3   Name         891 non-null    object \n",
      " 4   Sex          891 non-null    object \n",
      " 5   Age          714 non-null    float64\n",
      " 6   SibSp        891 non-null    int64  \n",
      " 7   Parch        891 non-null    int64  \n",
      " 8   Ticket       891 non-null    object \n",
      " 9   Fare         891 non-null    float64\n",
      " 10  Cabin        204 non-null    object \n",
      " 11  Embarked     889 non-null    object \n",
      "dtypes: float64(2), int64(5), object(5)\n",
      "memory usage: 83.7+ KB\n"
     ]
    }
   ],
   "source": [
    "df.info()"
   ]
  },
  {
   "cell_type": "code",
   "execution_count": 5,
   "id": "bd878788",
   "metadata": {
    "execution": {
     "iopub.execute_input": "2025-05-13T16:30:33.527703Z",
     "iopub.status.busy": "2025-05-13T16:30:33.527267Z",
     "iopub.status.idle": "2025-05-13T16:30:33.534280Z",
     "shell.execute_reply": "2025-05-13T16:30:33.533266Z"
    },
    "papermill": {
     "duration": 0.015417,
     "end_time": "2025-05-13T16:30:33.536204",
     "exception": false,
     "start_time": "2025-05-13T16:30:33.520787",
     "status": "completed"
    },
    "tags": []
   },
   "outputs": [
    {
     "data": {
      "text/plain": [
       "(891, 12)"
      ]
     },
     "execution_count": 5,
     "metadata": {},
     "output_type": "execute_result"
    }
   ],
   "source": [
    "df.shape"
   ]
  },
  {
   "cell_type": "code",
   "execution_count": 6,
   "id": "592b60c0",
   "metadata": {
    "execution": {
     "iopub.execute_input": "2025-05-13T16:30:33.550902Z",
     "iopub.status.busy": "2025-05-13T16:30:33.550522Z",
     "iopub.status.idle": "2025-05-13T16:30:33.556780Z",
     "shell.execute_reply": "2025-05-13T16:30:33.555797Z"
    },
    "papermill": {
     "duration": 0.015477,
     "end_time": "2025-05-13T16:30:33.558539",
     "exception": false,
     "start_time": "2025-05-13T16:30:33.543062",
     "status": "completed"
    },
    "tags": []
   },
   "outputs": [
    {
     "data": {
      "text/plain": [
       "10692"
      ]
     },
     "execution_count": 6,
     "metadata": {},
     "output_type": "execute_result"
    }
   ],
   "source": [
    "df.size"
   ]
  },
  {
   "cell_type": "code",
   "execution_count": 7,
   "id": "9d7253fa",
   "metadata": {
    "execution": {
     "iopub.execute_input": "2025-05-13T16:30:33.571474Z",
     "iopub.status.busy": "2025-05-13T16:30:33.571148Z",
     "iopub.status.idle": "2025-05-13T16:30:33.578068Z",
     "shell.execute_reply": "2025-05-13T16:30:33.576733Z"
    },
    "papermill": {
     "duration": 0.015649,
     "end_time": "2025-05-13T16:30:33.579825",
     "exception": false,
     "start_time": "2025-05-13T16:30:33.564176",
     "status": "completed"
    },
    "tags": []
   },
   "outputs": [
    {
     "data": {
      "text/plain": [
       "Index(['PassengerId', 'Survived', 'Pclass', 'Name', 'Sex', 'Age', 'SibSp',\n",
       "       'Parch', 'Ticket', 'Fare', 'Cabin', 'Embarked'],\n",
       "      dtype='object')"
      ]
     },
     "execution_count": 7,
     "metadata": {},
     "output_type": "execute_result"
    }
   ],
   "source": [
    "df.columns"
   ]
  },
  {
   "cell_type": "code",
   "execution_count": 8,
   "id": "4a927bf6",
   "metadata": {
    "execution": {
     "iopub.execute_input": "2025-05-13T16:30:33.592935Z",
     "iopub.status.busy": "2025-05-13T16:30:33.592588Z",
     "iopub.status.idle": "2025-05-13T16:30:33.599888Z",
     "shell.execute_reply": "2025-05-13T16:30:33.598867Z"
    },
    "papermill": {
     "duration": 0.016741,
     "end_time": "2025-05-13T16:30:33.602413",
     "exception": false,
     "start_time": "2025-05-13T16:30:33.585672",
     "status": "completed"
    },
    "tags": []
   },
   "outputs": [
    {
     "data": {
      "text/plain": [
       "177"
      ]
     },
     "execution_count": 8,
     "metadata": {},
     "output_type": "execute_result"
    }
   ],
   "source": [
    "df[\"Age\"].isnull().sum() #NaN değerlerin sayısı"
   ]
  },
  {
   "cell_type": "code",
   "execution_count": 9,
   "id": "9f64c24e",
   "metadata": {
    "execution": {
     "iopub.execute_input": "2025-05-13T16:30:33.616866Z",
     "iopub.status.busy": "2025-05-13T16:30:33.616379Z",
     "iopub.status.idle": "2025-05-13T16:30:33.623470Z",
     "shell.execute_reply": "2025-05-13T16:30:33.622499Z"
    },
    "papermill": {
     "duration": 0.016849,
     "end_time": "2025-05-13T16:30:33.625250",
     "exception": false,
     "start_time": "2025-05-13T16:30:33.608401",
     "status": "completed"
    },
    "tags": []
   },
   "outputs": [
    {
     "data": {
      "text/plain": [
       "29.69911764705882"
      ]
     },
     "execution_count": 9,
     "metadata": {},
     "output_type": "execute_result"
    }
   ],
   "source": [
    "df[\"Age\"].mean() #Yaş ortalaması"
   ]
  },
  {
   "cell_type": "markdown",
   "id": "6571dc8a",
   "metadata": {
    "papermill": {
     "duration": 0.006125,
     "end_time": "2025-05-13T16:30:33.638148",
     "exception": false,
     "start_time": "2025-05-13T16:30:33.632023",
     "status": "completed"
    },
    "tags": []
   },
   "source": [
    "1-) Kazada ölenlerin yaş ortalamasını bulunuz"
   ]
  },
  {
   "cell_type": "code",
   "execution_count": 10,
   "id": "cee88a36",
   "metadata": {
    "execution": {
     "iopub.execute_input": "2025-05-13T16:30:33.652850Z",
     "iopub.status.busy": "2025-05-13T16:30:33.652529Z",
     "iopub.status.idle": "2025-05-13T16:30:33.665814Z",
     "shell.execute_reply": "2025-05-13T16:30:33.664680Z"
    },
    "papermill": {
     "duration": 0.023389,
     "end_time": "2025-05-13T16:30:33.667544",
     "exception": false,
     "start_time": "2025-05-13T16:30:33.644155",
     "status": "completed"
    },
    "tags": []
   },
   "outputs": [
    {
     "data": {
      "text/plain": [
       "30.62617924528302"
      ]
     },
     "execution_count": 10,
     "metadata": {},
     "output_type": "execute_result"
    }
   ],
   "source": [
    "dead = df.loc[df[\"Survived\"] == 0] #Ölenler\n",
    "dead[\"Age\"].mean()"
   ]
  },
  {
   "cell_type": "markdown",
   "id": "1762d485",
   "metadata": {
    "papermill": {
     "duration": 0.005753,
     "end_time": "2025-05-13T16:30:33.679371",
     "exception": false,
     "start_time": "2025-05-13T16:30:33.673618",
     "status": "completed"
    },
    "tags": []
   },
   "source": [
    "2-) Kazada ölenlerin bilet fiyatlarının ortalamasını ve medyanını bulunuz"
   ]
  },
  {
   "cell_type": "code",
   "execution_count": 11,
   "id": "94a0630c",
   "metadata": {
    "execution": {
     "iopub.execute_input": "2025-05-13T16:30:33.692713Z",
     "iopub.status.busy": "2025-05-13T16:30:33.692364Z",
     "iopub.status.idle": "2025-05-13T16:30:33.698950Z",
     "shell.execute_reply": "2025-05-13T16:30:33.697875Z"
    },
    "papermill": {
     "duration": 0.015409,
     "end_time": "2025-05-13T16:30:33.700848",
     "exception": false,
     "start_time": "2025-05-13T16:30:33.685439",
     "status": "completed"
    },
    "tags": []
   },
   "outputs": [
    {
     "data": {
      "text/plain": [
       "22.117886885245902"
      ]
     },
     "execution_count": 11,
     "metadata": {},
     "output_type": "execute_result"
    }
   ],
   "source": [
    "dead[\"Fare\"].mean() #Ortalama"
   ]
  },
  {
   "cell_type": "code",
   "execution_count": 12,
   "id": "abfd36ec",
   "metadata": {
    "execution": {
     "iopub.execute_input": "2025-05-13T16:30:33.715104Z",
     "iopub.status.busy": "2025-05-13T16:30:33.714768Z",
     "iopub.status.idle": "2025-05-13T16:30:33.721480Z",
     "shell.execute_reply": "2025-05-13T16:30:33.720505Z"
    },
    "papermill": {
     "duration": 0.0162,
     "end_time": "2025-05-13T16:30:33.723176",
     "exception": false,
     "start_time": "2025-05-13T16:30:33.706976",
     "status": "completed"
    },
    "tags": []
   },
   "outputs": [
    {
     "data": {
      "text/plain": [
       "10.5"
      ]
     },
     "execution_count": 12,
     "metadata": {},
     "output_type": "execute_result"
    }
   ],
   "source": [
    "dead[\"Fare\"].median() #Medyan"
   ]
  },
  {
   "cell_type": "markdown",
   "id": "43828e95",
   "metadata": {
    "papermill": {
     "duration": 0.008139,
     "end_time": "2025-05-13T16:30:33.737385",
     "exception": false,
     "start_time": "2025-05-13T16:30:33.729246",
     "status": "completed"
    },
    "tags": []
   },
   "source": [
    "3-) Kazada ölen erkeklerin yaş ortalamasını bulunuz"
   ]
  },
  {
   "cell_type": "code",
   "execution_count": 13,
   "id": "f61ec409",
   "metadata": {
    "execution": {
     "iopub.execute_input": "2025-05-13T16:30:33.754279Z",
     "iopub.status.busy": "2025-05-13T16:30:33.753839Z",
     "iopub.status.idle": "2025-05-13T16:30:33.763318Z",
     "shell.execute_reply": "2025-05-13T16:30:33.762156Z"
    },
    "papermill": {
     "duration": 0.021624,
     "end_time": "2025-05-13T16:30:33.766184",
     "exception": false,
     "start_time": "2025-05-13T16:30:33.744560",
     "status": "completed"
    },
    "tags": []
   },
   "outputs": [
    {
     "data": {
      "text/plain": [
       "31.618055555555557"
      ]
     },
     "execution_count": 13,
     "metadata": {},
     "output_type": "execute_result"
    }
   ],
   "source": [
    "man = dead.loc[dead[\"Sex\"] == \"male\"]\n",
    "man[\"Age\"].mean()"
   ]
  },
  {
   "cell_type": "markdown",
   "id": "66d4f9e1",
   "metadata": {
    "papermill": {
     "duration": 0.005979,
     "end_time": "2025-05-13T16:30:33.778917",
     "exception": false,
     "start_time": "2025-05-13T16:30:33.772938",
     "status": "completed"
    },
    "tags": []
   },
   "source": [
    "4-) Kazada ölen Kadınların yaş ortalamasını bulunuz"
   ]
  },
  {
   "cell_type": "code",
   "execution_count": 14,
   "id": "26164e47",
   "metadata": {
    "execution": {
     "iopub.execute_input": "2025-05-13T16:30:33.799115Z",
     "iopub.status.busy": "2025-05-13T16:30:33.798760Z",
     "iopub.status.idle": "2025-05-13T16:30:33.806339Z",
     "shell.execute_reply": "2025-05-13T16:30:33.805494Z"
    },
    "papermill": {
     "duration": 0.021023,
     "end_time": "2025-05-13T16:30:33.807960",
     "exception": false,
     "start_time": "2025-05-13T16:30:33.786937",
     "status": "completed"
    },
    "tags": []
   },
   "outputs": [
    {
     "data": {
      "text/plain": [
       "25.046875"
      ]
     },
     "execution_count": 14,
     "metadata": {},
     "output_type": "execute_result"
    }
   ],
   "source": [
    "women = dead.loc[dead[\"Sex\"] == \"female\"]\n",
    "women[\"Age\"].mean()"
   ]
  },
  {
   "cell_type": "markdown",
   "id": "4191fe04",
   "metadata": {
    "papermill": {
     "duration": 0.005832,
     "end_time": "2025-05-13T16:30:33.820538",
     "exception": false,
     "start_time": "2025-05-13T16:30:33.814706",
     "status": "completed"
    },
    "tags": []
   },
   "source": [
    "5-) Kazadan kurtulanların yaş ortalamasını bulunuz"
   ]
  },
  {
   "cell_type": "code",
   "execution_count": 15,
   "id": "87ca8469",
   "metadata": {
    "execution": {
     "iopub.execute_input": "2025-05-13T16:30:33.834007Z",
     "iopub.status.busy": "2025-05-13T16:30:33.833705Z",
     "iopub.status.idle": "2025-05-13T16:30:33.841027Z",
     "shell.execute_reply": "2025-05-13T16:30:33.839848Z"
    },
    "papermill": {
     "duration": 0.016316,
     "end_time": "2025-05-13T16:30:33.842823",
     "exception": false,
     "start_time": "2025-05-13T16:30:33.826507",
     "status": "completed"
    },
    "tags": []
   },
   "outputs": [
    {
     "data": {
      "text/plain": [
       "28.343689655172415"
      ]
     },
     "execution_count": 15,
     "metadata": {},
     "output_type": "execute_result"
    }
   ],
   "source": [
    "survived = df.loc[df[\"Survived\"] == 1]\n",
    "survived[\"Age\"].mean()"
   ]
  },
  {
   "cell_type": "markdown",
   "id": "68dc8768",
   "metadata": {
    "papermill": {
     "duration": 0.006557,
     "end_time": "2025-05-13T16:30:33.855764",
     "exception": false,
     "start_time": "2025-05-13T16:30:33.849207",
     "status": "completed"
    },
    "tags": []
   },
   "source": [
    "6-) Kazadan kurtulanların bilet fiyatlarının ortalamasını bulunuz"
   ]
  },
  {
   "cell_type": "code",
   "execution_count": 16,
   "id": "b8cf5431",
   "metadata": {
    "execution": {
     "iopub.execute_input": "2025-05-13T16:30:33.872180Z",
     "iopub.status.busy": "2025-05-13T16:30:33.870974Z",
     "iopub.status.idle": "2025-05-13T16:30:33.878334Z",
     "shell.execute_reply": "2025-05-13T16:30:33.876987Z"
    },
    "papermill": {
     "duration": 0.017755,
     "end_time": "2025-05-13T16:30:33.880190",
     "exception": false,
     "start_time": "2025-05-13T16:30:33.862435",
     "status": "completed"
    },
    "tags": []
   },
   "outputs": [
    {
     "data": {
      "text/plain": [
       "48.39540760233918"
      ]
     },
     "execution_count": 16,
     "metadata": {},
     "output_type": "execute_result"
    }
   ],
   "source": [
    "survived[\"Fare\"].mean()"
   ]
  },
  {
   "cell_type": "markdown",
   "id": "849447c2",
   "metadata": {
    "papermill": {
     "duration": 0.006153,
     "end_time": "2025-05-13T16:30:33.894326",
     "exception": false,
     "start_time": "2025-05-13T16:30:33.888173",
     "status": "completed"
    },
    "tags": []
   },
   "source": [
    "7-) Kazadan kurtulan toplam kişi sayısını bulunuz"
   ]
  },
  {
   "cell_type": "code",
   "execution_count": 17,
   "id": "8753c333",
   "metadata": {
    "execution": {
     "iopub.execute_input": "2025-05-13T16:30:33.909740Z",
     "iopub.status.busy": "2025-05-13T16:30:33.908910Z",
     "iopub.status.idle": "2025-05-13T16:30:33.915517Z",
     "shell.execute_reply": "2025-05-13T16:30:33.914443Z"
    },
    "papermill": {
     "duration": 0.016264,
     "end_time": "2025-05-13T16:30:33.917154",
     "exception": false,
     "start_time": "2025-05-13T16:30:33.900890",
     "status": "completed"
    },
    "tags": []
   },
   "outputs": [
    {
     "data": {
      "text/plain": [
       "342"
      ]
     },
     "execution_count": 17,
     "metadata": {},
     "output_type": "execute_result"
    }
   ],
   "source": [
    "survived[\"Survived\"].sum()"
   ]
  },
  {
   "cell_type": "markdown",
   "id": "0e5f0f72",
   "metadata": {
    "papermill": {
     "duration": 0.006221,
     "end_time": "2025-05-13T16:30:33.930364",
     "exception": false,
     "start_time": "2025-05-13T16:30:33.924143",
     "status": "completed"
    },
    "tags": []
   },
   "source": [
    "8-) 10 yaşından küçüklerin bilet fiyatlarının medyan değerini bulunuz"
   ]
  },
  {
   "cell_type": "code",
   "execution_count": 18,
   "id": "5de2c4f3",
   "metadata": {
    "execution": {
     "iopub.execute_input": "2025-05-13T16:30:33.944287Z",
     "iopub.status.busy": "2025-05-13T16:30:33.943939Z",
     "iopub.status.idle": "2025-05-13T16:30:33.953201Z",
     "shell.execute_reply": "2025-05-13T16:30:33.952262Z"
    },
    "papermill": {
     "duration": 0.018434,
     "end_time": "2025-05-13T16:30:33.955101",
     "exception": false,
     "start_time": "2025-05-13T16:30:33.936667",
     "status": "completed"
    },
    "tags": []
   },
   "outputs": [
    {
     "name": "stderr",
     "output_type": "stream",
     "text": [
      "/usr/local/lib/python3.11/dist-packages/pandas/core/computation/expressions.py:73: RuntimeWarning: invalid value encountered in less\n",
      "  return op(a, b)\n"
     ]
    },
    {
     "data": {
      "text/plain": [
       "27.0"
      ]
     },
     "execution_count": 18,
     "metadata": {},
     "output_type": "execute_result"
    }
   ],
   "source": [
    "child = df.loc[df[\"Age\"] < 10]\n",
    "child[\"Fare\"].median()"
   ]
  },
  {
   "cell_type": "markdown",
   "id": "c73af8ba",
   "metadata": {
    "papermill": {
     "duration": 0.006198,
     "end_time": "2025-05-13T16:30:33.967936",
     "exception": false,
     "start_time": "2025-05-13T16:30:33.961738",
     "status": "completed"
    },
    "tags": []
   },
   "source": [
    "9-) 1.sınıf, 2.sınıf ve 3.sınıf bilet fiyatlarının ortalama ve medyanlarını karşılaştırınız"
   ]
  },
  {
   "cell_type": "code",
   "execution_count": 19,
   "id": "db26837f",
   "metadata": {
    "execution": {
     "iopub.execute_input": "2025-05-13T16:30:33.982849Z",
     "iopub.status.busy": "2025-05-13T16:30:33.982486Z",
     "iopub.status.idle": "2025-05-13T16:30:33.992862Z",
     "shell.execute_reply": "2025-05-13T16:30:33.991782Z"
    },
    "papermill": {
     "duration": 0.019739,
     "end_time": "2025-05-13T16:30:33.994748",
     "exception": false,
     "start_time": "2025-05-13T16:30:33.975009",
     "status": "completed"
    },
    "tags": []
   },
   "outputs": [
    {
     "data": {
      "text/plain": [
       "Pclass\n",
       "1    84.154687\n",
       "2    20.662183\n",
       "3    13.675550\n",
       "Name: Fare, dtype: float64"
      ]
     },
     "execution_count": 19,
     "metadata": {},
     "output_type": "execute_result"
    }
   ],
   "source": [
    "df.groupby(\"Pclass\")[\"Fare\"].mean() #Ortalama"
   ]
  },
  {
   "cell_type": "code",
   "execution_count": 20,
   "id": "0d97776c",
   "metadata": {
    "execution": {
     "iopub.execute_input": "2025-05-13T16:30:34.009634Z",
     "iopub.status.busy": "2025-05-13T16:30:34.009314Z",
     "iopub.status.idle": "2025-05-13T16:30:34.018813Z",
     "shell.execute_reply": "2025-05-13T16:30:34.017873Z"
    },
    "papermill": {
     "duration": 0.01882,
     "end_time": "2025-05-13T16:30:34.020361",
     "exception": false,
     "start_time": "2025-05-13T16:30:34.001541",
     "status": "completed"
    },
    "tags": []
   },
   "outputs": [
    {
     "data": {
      "text/plain": [
       "Pclass\n",
       "1    60.2875\n",
       "2    14.2500\n",
       "3     8.0500\n",
       "Name: Fare, dtype: float64"
      ]
     },
     "execution_count": 20,
     "metadata": {},
     "output_type": "execute_result"
    }
   ],
   "source": [
    "df.groupby(\"Pclass\")[\"Fare\"].median() #Medyan"
   ]
  },
  {
   "cell_type": "markdown",
   "id": "65bfe565",
   "metadata": {
    "papermill": {
     "duration": 0.007024,
     "end_time": "2025-05-13T16:30:34.034708",
     "exception": false,
     "start_time": "2025-05-13T16:30:34.027684",
     "status": "completed"
    },
    "tags": []
   },
   "source": [
    "10-) Kazada ölen kadınların oranı ile erkeklerin oranını karşılaştırınız (Örnek: erkekler için; ölen erkeklerin, erkek sayısına bölümü bu oranı vermektedir"
   ]
  },
  {
   "cell_type": "code",
   "execution_count": 21,
   "id": "83d6b9c3",
   "metadata": {
    "execution": {
     "iopub.execute_input": "2025-05-13T16:30:34.051073Z",
     "iopub.status.busy": "2025-05-13T16:30:34.049940Z",
     "iopub.status.idle": "2025-05-13T16:30:34.059425Z",
     "shell.execute_reply": "2025-05-13T16:30:34.057916Z"
    },
    "papermill": {
     "duration": 0.019882,
     "end_time": "2025-05-13T16:30:34.061966",
     "exception": false,
     "start_time": "2025-05-13T16:30:34.042084",
     "status": "completed"
    },
    "tags": []
   },
   "outputs": [
    {
     "data": {
      "text/plain": [
       "0.25796178343949044"
      ]
     },
     "execution_count": 21,
     "metadata": {},
     "output_type": "execute_result"
    }
   ],
   "source": [
    "len(women) / len(df.loc[df[\"Sex\"] == \"female\"]) #Women, yukarıda 4. soruda tanımlanmıştı"
   ]
  },
  {
   "cell_type": "code",
   "execution_count": 22,
   "id": "05a182a9",
   "metadata": {
    "execution": {
     "iopub.execute_input": "2025-05-13T16:30:34.079273Z",
     "iopub.status.busy": "2025-05-13T16:30:34.078791Z",
     "iopub.status.idle": "2025-05-13T16:30:34.089791Z",
     "shell.execute_reply": "2025-05-13T16:30:34.088730Z"
    },
    "papermill": {
     "duration": 0.02142,
     "end_time": "2025-05-13T16:30:34.091957",
     "exception": false,
     "start_time": "2025-05-13T16:30:34.070537",
     "status": "completed"
    },
    "tags": []
   },
   "outputs": [
    {
     "data": {
      "text/plain": [
       "0.8110918544194108"
      ]
     },
     "execution_count": 22,
     "metadata": {},
     "output_type": "execute_result"
    }
   ],
   "source": [
    "len(man) / len(df.loc[df[\"Sex\"] == \"male\"]) #Man, yukarıda 3. soruda tanımlanmıştı "
   ]
  }
 ],
 "metadata": {
  "kaggle": {
   "accelerator": "none",
   "dataSources": [
    {
     "databundleVersionId": 26502,
     "sourceId": 3136,
     "sourceType": "competition"
    }
   ],
   "dockerImageVersionId": 31040,
   "isGpuEnabled": false,
   "isInternetEnabled": false,
   "language": "python",
   "sourceType": "notebook"
  },
  "kernelspec": {
   "display_name": "Python 3",
   "language": "python",
   "name": "python3"
  },
  "language_info": {
   "codemirror_mode": {
    "name": "ipython",
    "version": 3
   },
   "file_extension": ".py",
   "mimetype": "text/x-python",
   "name": "python",
   "nbconvert_exporter": "python",
   "pygments_lexer": "ipython3",
   "version": "3.11.11"
  },
  "papermill": {
   "default_parameters": {},
   "duration": 8.929388,
   "end_time": "2025-05-13T16:30:34.621120",
   "environment_variables": {},
   "exception": null,
   "input_path": "__notebook__.ipynb",
   "output_path": "__notebook__.ipynb",
   "parameters": {},
   "start_time": "2025-05-13T16:30:25.691732",
   "version": "2.6.0"
  }
 },
 "nbformat": 4,
 "nbformat_minor": 5
}
